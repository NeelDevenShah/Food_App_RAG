{
 "cells": [
  {
   "cell_type": "code",
   "execution_count": 1,
   "metadata": {},
   "outputs": [
    {
     "name": "stdout",
     "output_type": "stream",
     "text": [
      "Pinged your deployment. You successfully connected to MongoDB!\n"
     ]
    }
   ],
   "source": [
    "from pymongo.mongo_client import MongoClient\n",
    "from pymongo.server_api import ServerApi\n",
    "import os\n",
    "uri = os.environ.get('MONGO_URI')\n",
    "\n",
    "# Create a new client and connect to the server\n",
    "client = MongoClient(uri, server_api=ServerApi('1'))\n",
    "# Send a ping to confirm a successful connection\n",
    "try:\n",
    "    client.admin.command('ping')\n",
    "    print(\"Pinged your deployment. You successfully connected to MongoDB!\")\n",
    "except Exception as e:\n",
    "    print(e)"
   ]
  },
  {
   "cell_type": "code",
   "execution_count": 2,
   "metadata": {},
   "outputs": [],
   "source": [
    "import pandas as pd\n",
    "import pymongo"
   ]
  },
  {
   "cell_type": "code",
   "execution_count": 3,
   "metadata": {},
   "outputs": [],
   "source": [
    "# Replace <connection_string> with the actual connection string provided by MongoDB Atlas\n",
    "client = pymongo.MongoClient(uri)\n",
    "db = client[os.environ.get('DATABASE')]\n",
    "collection = db[os.environ.get('COLLECTION')]"
   ]
  },
  {
   "cell_type": "code",
   "execution_count": 5,
   "metadata": {},
   "outputs": [],
   "source": [
    "df = pd.read_csv(\"../restaurant_data.csv\")\n",
    "df = df[:10]"
   ]
  },
  {
   "cell_type": "code",
   "execution_count": 6,
   "metadata": {},
   "outputs": [],
   "source": [
    "csv_data = df.to_dict(\"records\")"
   ]
  },
  {
   "cell_type": "code",
   "execution_count": 7,
   "metadata": {},
   "outputs": [
    {
     "data": {
      "text/html": [
       "<div>\n",
       "<style scoped>\n",
       "    .dataframe tbody tr th:only-of-type {\n",
       "        vertical-align: middle;\n",
       "    }\n",
       "\n",
       "    .dataframe tbody tr th {\n",
       "        vertical-align: top;\n",
       "    }\n",
       "\n",
       "    .dataframe thead th {\n",
       "        text-align: right;\n",
       "    }\n",
       "</style>\n",
       "<table border=\"1\" class=\"dataframe\">\n",
       "  <thead>\n",
       "    <tr style=\"text-align: right;\">\n",
       "      <th></th>\n",
       "      <th>Restaurant Name</th>\n",
       "      <th>Location</th>\n",
       "      <th>Cuisine</th>\n",
       "      <th>Secondary Cuisine</th>\n",
       "      <th>Price Range</th>\n",
       "      <th>Dish</th>\n",
       "      <th>Price</th>\n",
       "    </tr>\n",
       "  </thead>\n",
       "  <tbody>\n",
       "    <tr>\n",
       "      <th>0</th>\n",
       "      <td>Flavors</td>\n",
       "      <td>Chennai</td>\n",
       "      <td>Hyderabadi</td>\n",
       "      <td>Mughlai</td>\n",
       "      <td>₹500-₹1000</td>\n",
       "      <td>Dhokla</td>\n",
       "      <td>127</td>\n",
       "    </tr>\n",
       "    <tr>\n",
       "      <th>1</th>\n",
       "      <td>Flavors</td>\n",
       "      <td>Mumbai</td>\n",
       "      <td>Gujarati</td>\n",
       "      <td>Chaat</td>\n",
       "      <td>₹300-₹700</td>\n",
       "      <td>Sambar Vada</td>\n",
       "      <td>159</td>\n",
       "    </tr>\n",
       "    <tr>\n",
       "      <th>2</th>\n",
       "      <td>Dosa</td>\n",
       "      <td>Pune</td>\n",
       "      <td>Street Food</td>\n",
       "      <td>Awadhi</td>\n",
       "      <td>₹700-₹1500</td>\n",
       "      <td>Biryani</td>\n",
       "      <td>1577</td>\n",
       "    </tr>\n",
       "    <tr>\n",
       "      <th>3</th>\n",
       "      <td>Spice I</td>\n",
       "      <td>Chennai</td>\n",
       "      <td>South Indian</td>\n",
       "      <td>Tandoori</td>\n",
       "      <td>₹300-₹700</td>\n",
       "      <td>Chicken Tikka</td>\n",
       "      <td>1485</td>\n",
       "    </tr>\n",
       "    <tr>\n",
       "      <th>4</th>\n",
       "      <td>Relish R</td>\n",
       "      <td>Bengaluru</td>\n",
       "      <td>Mughlai</td>\n",
       "      <td>Mughlai</td>\n",
       "      <td>₹200-₹500</td>\n",
       "      <td>Haleem</td>\n",
       "      <td>328</td>\n",
       "    </tr>\n",
       "  </tbody>\n",
       "</table>\n",
       "</div>"
      ],
      "text/plain": [
       "  Restaurant Name   Location       Cuisine Secondary Cuisine Price Range  \\\n",
       "0         Flavors    Chennai    Hyderabadi           Mughlai  ₹500-₹1000   \n",
       "1         Flavors     Mumbai      Gujarati             Chaat   ₹300-₹700   \n",
       "2            Dosa       Pune   Street Food            Awadhi  ₹700-₹1500   \n",
       "3         Spice I    Chennai  South Indian          Tandoori   ₹300-₹700   \n",
       "4        Relish R  Bengaluru       Mughlai           Mughlai   ₹200-₹500   \n",
       "\n",
       "            Dish  Price  \n",
       "0         Dhokla    127  \n",
       "1    Sambar Vada    159  \n",
       "2        Biryani   1577  \n",
       "3  Chicken Tikka   1485  \n",
       "4         Haleem    328  "
      ]
     },
     "execution_count": 7,
     "metadata": {},
     "output_type": "execute_result"
    }
   ],
   "source": [
    "df.head()"
   ]
  },
  {
   "cell_type": "code",
   "execution_count": 8,
   "metadata": {},
   "outputs": [
    {
     "data": {
      "text/plain": [
       "InsertManyResult([ObjectId('660af97bfcdf64a77f9d6370'), ObjectId('660af97bfcdf64a77f9d6371'), ObjectId('660af97bfcdf64a77f9d6372'), ObjectId('660af97bfcdf64a77f9d6373'), ObjectId('660af97bfcdf64a77f9d6374'), ObjectId('660af97bfcdf64a77f9d6375'), ObjectId('660af97bfcdf64a77f9d6376'), ObjectId('660af97bfcdf64a77f9d6377'), ObjectId('660af97bfcdf64a77f9d6378'), ObjectId('660af97bfcdf64a77f9d6379')], acknowledged=True)"
      ]
     },
     "execution_count": 8,
     "metadata": {},
     "output_type": "execute_result"
    }
   ],
   "source": [
    "collection.insert_many(csv_data)"
   ]
  }
 ],
 "metadata": {
  "kernelspec": {
   "display_name": "base",
   "language": "python",
   "name": "python3"
  },
  "language_info": {
   "codemirror_mode": {
    "name": "ipython",
    "version": 3
   },
   "file_extension": ".py",
   "mimetype": "text/x-python",
   "name": "python",
   "nbconvert_exporter": "python",
   "pygments_lexer": "ipython3",
   "version": "3.9.13"
  }
 },
 "nbformat": 4,
 "nbformat_minor": 2
}
